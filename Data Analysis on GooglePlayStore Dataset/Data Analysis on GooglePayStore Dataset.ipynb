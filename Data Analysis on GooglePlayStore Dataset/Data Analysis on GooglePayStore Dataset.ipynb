{
 "cells": [
  {
   "cell_type": "markdown",
   "id": "e597d479",
   "metadata": {},
   "source": [
    "# Data Preprocessing - Removing Null Value Rows\n",
    "\n",
    "While making a Data Frame from a csv file, many blank columns are imported as null value into the Data Frame which later creates problems while operating that data frame. Pandas isnull() and notnull() methods are used to check and manage NULL values in a data frame.\n",
    " \n",
    "#### Dataframe.isnull()\n",
    "- **Syntax:** Pandas.isnull(“DataFrame Name”) or DataFrame.isnull()\n",
    "- **Parameters:** Object to check null values for\n",
    "- **Return Type:** Dataframe of Boolean values which are True for NaN values \n",
    " \n",
    "If we add the sum function after the isnull() it will give us the total number of data which are not present or null in our dataset.\n",
    "\n",
    "Let us see with the help of an example."
   ]
  },
  {
   "cell_type": "code",
   "execution_count": 1,
   "id": "5f6704e1",
   "metadata": {},
   "outputs": [
    {
     "name": "stdout",
     "output_type": "stream",
     "text": [
      "App                  0\n",
      "Category             0\n",
      "Rating            1474\n",
      "Reviews              0\n",
      "Size                 0\n",
      "Installs             0\n",
      "Type                 1\n",
      "Price                0\n",
      "Content Rating       1\n",
      "Genres               0\n",
      "Last Updated         0\n",
      "Current Ver          8\n",
      "Android Ver          3\n",
      "dtype: int64\n"
     ]
    }
   ],
   "source": [
    "import pandas as pd\n",
    "\n",
    "data = pd.read_csv(\"googleplaystore.csv\")\n",
    "\n",
    "print(data.isnull().sum())"
   ]
  },
  {
   "cell_type": "markdown",
   "id": "961bf607",
   "metadata": {},
   "source": [
    "So we can see that our columns are App, Category, Rating etc. So the number which is being displayed after the column names is basically the total number of null values that particular column is containing.\n",
    "\n",
    "So we can delete all the rows which are present in our dataframe with the help of dropna() function. Let us see the implementation of that now."
   ]
  },
  {
   "cell_type": "code",
   "execution_count": 2,
   "id": "1e75f3c8",
   "metadata": {},
   "outputs": [
    {
     "name": "stdout",
     "output_type": "stream",
     "text": [
      "App               0\n",
      "Category          0\n",
      "Rating            0\n",
      "Reviews           0\n",
      "Size              0\n",
      "Installs          0\n",
      "Type              0\n",
      "Price             0\n",
      "Content Rating    0\n",
      "Genres            0\n",
      "Last Updated      0\n",
      "Current Ver       0\n",
      "Android Ver       0\n",
      "dtype: int64\n"
     ]
    }
   ],
   "source": [
    "df = data.dropna()\n",
    "\n",
    "print(df.isnull().sum())"
   ]
  },
  {
   "cell_type": "markdown",
   "id": "b60ddfe3",
   "metadata": {},
   "source": [
    "So no more null values are present in any of the columns."
   ]
  },
  {
   "cell_type": "markdown",
   "id": "cb578824",
   "metadata": {},
   "source": [
    "# Data Analysis - Numeric\n",
    "\n",
    "We have already seen how we could remove the null values from our dataset. Let's analyse the numeric data present with us and try to find out the inferences which we can get.\n",
    "\n",
    "So let us see our dataset again before getting started."
   ]
  },
  {
   "cell_type": "code",
   "execution_count": 3,
   "id": "aabad5ee",
   "metadata": {},
   "outputs": [
    {
     "data": {
      "text/html": [
       "<div>\n",
       "<style scoped>\n",
       "    .dataframe tbody tr th:only-of-type {\n",
       "        vertical-align: middle;\n",
       "    }\n",
       "\n",
       "    .dataframe tbody tr th {\n",
       "        vertical-align: top;\n",
       "    }\n",
       "\n",
       "    .dataframe thead th {\n",
       "        text-align: right;\n",
       "    }\n",
       "</style>\n",
       "<table border=\"1\" class=\"dataframe\">\n",
       "  <thead>\n",
       "    <tr style=\"text-align: right;\">\n",
       "      <th></th>\n",
       "      <th>App</th>\n",
       "      <th>Category</th>\n",
       "      <th>Rating</th>\n",
       "      <th>Reviews</th>\n",
       "      <th>Size</th>\n",
       "      <th>Installs</th>\n",
       "      <th>Type</th>\n",
       "      <th>Price</th>\n",
       "      <th>Content Rating</th>\n",
       "      <th>Genres</th>\n",
       "      <th>Last Updated</th>\n",
       "      <th>Current Ver</th>\n",
       "      <th>Android Ver</th>\n",
       "    </tr>\n",
       "  </thead>\n",
       "  <tbody>\n",
       "    <tr>\n",
       "      <th>0</th>\n",
       "      <td>Photo Editor &amp; Candy Camera &amp; Grid &amp; ScrapBook</td>\n",
       "      <td>ART_AND_DESIGN</td>\n",
       "      <td>4.1</td>\n",
       "      <td>159</td>\n",
       "      <td>19M</td>\n",
       "      <td>10,000+</td>\n",
       "      <td>Free</td>\n",
       "      <td>0</td>\n",
       "      <td>Everyone</td>\n",
       "      <td>Art &amp; Design</td>\n",
       "      <td>January 7, 2018</td>\n",
       "      <td>1.0.0</td>\n",
       "      <td>4.0.3 and up</td>\n",
       "    </tr>\n",
       "    <tr>\n",
       "      <th>1</th>\n",
       "      <td>Coloring book moana</td>\n",
       "      <td>ART_AND_DESIGN</td>\n",
       "      <td>3.9</td>\n",
       "      <td>967</td>\n",
       "      <td>14M</td>\n",
       "      <td>500,000+</td>\n",
       "      <td>Free</td>\n",
       "      <td>0</td>\n",
       "      <td>Everyone</td>\n",
       "      <td>Art &amp; Design;Pretend Play</td>\n",
       "      <td>January 15, 2018</td>\n",
       "      <td>2.0.0</td>\n",
       "      <td>4.0.3 and up</td>\n",
       "    </tr>\n",
       "    <tr>\n",
       "      <th>2</th>\n",
       "      <td>U Launcher Lite – FREE Live Cool Themes, Hide ...</td>\n",
       "      <td>ART_AND_DESIGN</td>\n",
       "      <td>4.7</td>\n",
       "      <td>87510</td>\n",
       "      <td>8.7M</td>\n",
       "      <td>5,000,000+</td>\n",
       "      <td>Free</td>\n",
       "      <td>0</td>\n",
       "      <td>Everyone</td>\n",
       "      <td>Art &amp; Design</td>\n",
       "      <td>August 1, 2018</td>\n",
       "      <td>1.2.4</td>\n",
       "      <td>4.0.3 and up</td>\n",
       "    </tr>\n",
       "    <tr>\n",
       "      <th>3</th>\n",
       "      <td>Sketch - Draw &amp; Paint</td>\n",
       "      <td>ART_AND_DESIGN</td>\n",
       "      <td>4.5</td>\n",
       "      <td>215644</td>\n",
       "      <td>25M</td>\n",
       "      <td>50,000,000+</td>\n",
       "      <td>Free</td>\n",
       "      <td>0</td>\n",
       "      <td>Teen</td>\n",
       "      <td>Art &amp; Design</td>\n",
       "      <td>June 8, 2018</td>\n",
       "      <td>Varies with device</td>\n",
       "      <td>4.2 and up</td>\n",
       "    </tr>\n",
       "    <tr>\n",
       "      <th>4</th>\n",
       "      <td>Pixel Draw - Number Art Coloring Book</td>\n",
       "      <td>ART_AND_DESIGN</td>\n",
       "      <td>4.3</td>\n",
       "      <td>967</td>\n",
       "      <td>2.8M</td>\n",
       "      <td>100,000+</td>\n",
       "      <td>Free</td>\n",
       "      <td>0</td>\n",
       "      <td>Everyone</td>\n",
       "      <td>Art &amp; Design;Creativity</td>\n",
       "      <td>June 20, 2018</td>\n",
       "      <td>1.1</td>\n",
       "      <td>4.4 and up</td>\n",
       "    </tr>\n",
       "  </tbody>\n",
       "</table>\n",
       "</div>"
      ],
      "text/plain": [
       "                                                 App        Category  Rating  \\\n",
       "0     Photo Editor & Candy Camera & Grid & ScrapBook  ART_AND_DESIGN     4.1   \n",
       "1                                Coloring book moana  ART_AND_DESIGN     3.9   \n",
       "2  U Launcher Lite – FREE Live Cool Themes, Hide ...  ART_AND_DESIGN     4.7   \n",
       "3                              Sketch - Draw & Paint  ART_AND_DESIGN     4.5   \n",
       "4              Pixel Draw - Number Art Coloring Book  ART_AND_DESIGN     4.3   \n",
       "\n",
       "  Reviews  Size     Installs  Type Price Content Rating  \\\n",
       "0     159   19M      10,000+  Free     0       Everyone   \n",
       "1     967   14M     500,000+  Free     0       Everyone   \n",
       "2   87510  8.7M   5,000,000+  Free     0       Everyone   \n",
       "3  215644   25M  50,000,000+  Free     0           Teen   \n",
       "4     967  2.8M     100,000+  Free     0       Everyone   \n",
       "\n",
       "                      Genres      Last Updated         Current Ver  \\\n",
       "0               Art & Design   January 7, 2018               1.0.0   \n",
       "1  Art & Design;Pretend Play  January 15, 2018               2.0.0   \n",
       "2               Art & Design    August 1, 2018               1.2.4   \n",
       "3               Art & Design      June 8, 2018  Varies with device   \n",
       "4    Art & Design;Creativity     June 20, 2018                 1.1   \n",
       "\n",
       "    Android Ver  \n",
       "0  4.0.3 and up  \n",
       "1  4.0.3 and up  \n",
       "2  4.0.3 and up  \n",
       "3    4.2 and up  \n",
       "4    4.4 and up  "
      ]
     },
     "execution_count": 3,
     "metadata": {},
     "output_type": "execute_result"
    }
   ],
   "source": [
    "df.head()"
   ]
  },
  {
   "cell_type": "markdown",
   "id": "a910f2b1",
   "metadata": {},
   "source": [
    "Let's do some analysis on the Rating column"
   ]
  },
  {
   "cell_type": "code",
   "execution_count": 4,
   "id": "7814ddbb",
   "metadata": {},
   "outputs": [
    {
     "name": "stdout",
     "output_type": "stream",
     "text": [
      "0        4.1\n",
      "1        3.9\n",
      "2        4.7\n",
      "3        4.5\n",
      "4        4.3\n",
      "        ... \n",
      "10834    4.0\n",
      "10836    4.5\n",
      "10837    5.0\n",
      "10839    4.5\n",
      "10840    4.5\n",
      "Name: Rating, Length: 9360, dtype: float64\n"
     ]
    }
   ],
   "source": [
    "print(df['Rating'])"
   ]
  },
  {
   "cell_type": "markdown",
   "id": "a5708ca7",
   "metadata": {},
   "source": [
    "So the data type of the Rating is float64"
   ]
  },
  {
   "cell_type": "markdown",
   "id": "12602878",
   "metadata": {},
   "source": [
    "### Finding out the Average Rating"
   ]
  },
  {
   "cell_type": "code",
   "execution_count": 5,
   "id": "c11441f2",
   "metadata": {},
   "outputs": [
    {
     "name": "stdout",
     "output_type": "stream",
     "text": [
      "The average Rating of the datas in our data set is :  4.192\n"
     ]
    }
   ],
   "source": [
    "s = 0\n",
    "\n",
    "for i in df['Rating']:\n",
    "    s += i\n",
    "\n",
    "s = int(s)\n",
    "a = s/len(df['Rating'])\n",
    "\n",
    "print(\"The average Rating of the datas in our data set is : \", round(a, 3))"
   ]
  },
  {
   "cell_type": "markdown",
   "id": "55d6023a",
   "metadata": {},
   "source": [
    "### How many Apps are there with Rating 5"
   ]
  },
  {
   "cell_type": "code",
   "execution_count": 6,
   "id": "ea9ba417",
   "metadata": {},
   "outputs": [
    {
     "name": "stdout",
     "output_type": "stream",
     "text": [
      "There are 274 applications with rating 5\n"
     ]
    }
   ],
   "source": [
    "c = 0\n",
    "\n",
    "for i in df['Rating']:\n",
    "    if (i == 5.0):\n",
    "        c += 1\n",
    "\n",
    "print(f\"There are {c} applications with rating 5\")"
   ]
  },
  {
   "cell_type": "markdown",
   "id": "2817f75f",
   "metadata": {},
   "source": [
    "### Apps with Rating between the range of 4 and 4.5"
   ]
  },
  {
   "cell_type": "code",
   "execution_count": 7,
   "id": "56f795a2",
   "metadata": {},
   "outputs": [
    {
     "name": "stdout",
     "output_type": "stream",
     "text": [
      "There are 5446 applications with rating between the range of 4 and 4.5\n"
     ]
    }
   ],
   "source": [
    "c = 0\n",
    "\n",
    "for i in df['Rating']:\n",
    "    if (i >= 4.0 and i <= 4.5):\n",
    "        c += 1\n",
    "print(f\"There are {c} applications with rating between the range of 4 and 4.5\")"
   ]
  },
  {
   "cell_type": "markdown",
   "id": "866500bc",
   "metadata": {},
   "source": [
    "# Data Analysis - Categorical\n",
    "\n",
    "We have already done some analysis on numerical data. Let us work with Categorical data now. \n",
    "\n",
    "Before doing analysis let us see our dataset again."
   ]
  },
  {
   "cell_type": "code",
   "execution_count": 8,
   "id": "599b3b53",
   "metadata": {},
   "outputs": [
    {
     "data": {
      "text/html": [
       "<div>\n",
       "<style scoped>\n",
       "    .dataframe tbody tr th:only-of-type {\n",
       "        vertical-align: middle;\n",
       "    }\n",
       "\n",
       "    .dataframe tbody tr th {\n",
       "        vertical-align: top;\n",
       "    }\n",
       "\n",
       "    .dataframe thead th {\n",
       "        text-align: right;\n",
       "    }\n",
       "</style>\n",
       "<table border=\"1\" class=\"dataframe\">\n",
       "  <thead>\n",
       "    <tr style=\"text-align: right;\">\n",
       "      <th></th>\n",
       "      <th>App</th>\n",
       "      <th>Category</th>\n",
       "      <th>Rating</th>\n",
       "      <th>Reviews</th>\n",
       "      <th>Size</th>\n",
       "      <th>Installs</th>\n",
       "      <th>Type</th>\n",
       "      <th>Price</th>\n",
       "      <th>Content Rating</th>\n",
       "      <th>Genres</th>\n",
       "      <th>Last Updated</th>\n",
       "      <th>Current Ver</th>\n",
       "      <th>Android Ver</th>\n",
       "    </tr>\n",
       "  </thead>\n",
       "  <tbody>\n",
       "    <tr>\n",
       "      <th>0</th>\n",
       "      <td>Photo Editor &amp; Candy Camera &amp; Grid &amp; ScrapBook</td>\n",
       "      <td>ART_AND_DESIGN</td>\n",
       "      <td>4.1</td>\n",
       "      <td>159</td>\n",
       "      <td>19M</td>\n",
       "      <td>10,000+</td>\n",
       "      <td>Free</td>\n",
       "      <td>0</td>\n",
       "      <td>Everyone</td>\n",
       "      <td>Art &amp; Design</td>\n",
       "      <td>January 7, 2018</td>\n",
       "      <td>1.0.0</td>\n",
       "      <td>4.0.3 and up</td>\n",
       "    </tr>\n",
       "    <tr>\n",
       "      <th>1</th>\n",
       "      <td>Coloring book moana</td>\n",
       "      <td>ART_AND_DESIGN</td>\n",
       "      <td>3.9</td>\n",
       "      <td>967</td>\n",
       "      <td>14M</td>\n",
       "      <td>500,000+</td>\n",
       "      <td>Free</td>\n",
       "      <td>0</td>\n",
       "      <td>Everyone</td>\n",
       "      <td>Art &amp; Design;Pretend Play</td>\n",
       "      <td>January 15, 2018</td>\n",
       "      <td>2.0.0</td>\n",
       "      <td>4.0.3 and up</td>\n",
       "    </tr>\n",
       "    <tr>\n",
       "      <th>2</th>\n",
       "      <td>U Launcher Lite – FREE Live Cool Themes, Hide ...</td>\n",
       "      <td>ART_AND_DESIGN</td>\n",
       "      <td>4.7</td>\n",
       "      <td>87510</td>\n",
       "      <td>8.7M</td>\n",
       "      <td>5,000,000+</td>\n",
       "      <td>Free</td>\n",
       "      <td>0</td>\n",
       "      <td>Everyone</td>\n",
       "      <td>Art &amp; Design</td>\n",
       "      <td>August 1, 2018</td>\n",
       "      <td>1.2.4</td>\n",
       "      <td>4.0.3 and up</td>\n",
       "    </tr>\n",
       "    <tr>\n",
       "      <th>3</th>\n",
       "      <td>Sketch - Draw &amp; Paint</td>\n",
       "      <td>ART_AND_DESIGN</td>\n",
       "      <td>4.5</td>\n",
       "      <td>215644</td>\n",
       "      <td>25M</td>\n",
       "      <td>50,000,000+</td>\n",
       "      <td>Free</td>\n",
       "      <td>0</td>\n",
       "      <td>Teen</td>\n",
       "      <td>Art &amp; Design</td>\n",
       "      <td>June 8, 2018</td>\n",
       "      <td>Varies with device</td>\n",
       "      <td>4.2 and up</td>\n",
       "    </tr>\n",
       "    <tr>\n",
       "      <th>4</th>\n",
       "      <td>Pixel Draw - Number Art Coloring Book</td>\n",
       "      <td>ART_AND_DESIGN</td>\n",
       "      <td>4.3</td>\n",
       "      <td>967</td>\n",
       "      <td>2.8M</td>\n",
       "      <td>100,000+</td>\n",
       "      <td>Free</td>\n",
       "      <td>0</td>\n",
       "      <td>Everyone</td>\n",
       "      <td>Art &amp; Design;Creativity</td>\n",
       "      <td>June 20, 2018</td>\n",
       "      <td>1.1</td>\n",
       "      <td>4.4 and up</td>\n",
       "    </tr>\n",
       "  </tbody>\n",
       "</table>\n",
       "</div>"
      ],
      "text/plain": [
       "                                                 App        Category  Rating  \\\n",
       "0     Photo Editor & Candy Camera & Grid & ScrapBook  ART_AND_DESIGN     4.1   \n",
       "1                                Coloring book moana  ART_AND_DESIGN     3.9   \n",
       "2  U Launcher Lite – FREE Live Cool Themes, Hide ...  ART_AND_DESIGN     4.7   \n",
       "3                              Sketch - Draw & Paint  ART_AND_DESIGN     4.5   \n",
       "4              Pixel Draw - Number Art Coloring Book  ART_AND_DESIGN     4.3   \n",
       "\n",
       "  Reviews  Size     Installs  Type Price Content Rating  \\\n",
       "0     159   19M      10,000+  Free     0       Everyone   \n",
       "1     967   14M     500,000+  Free     0       Everyone   \n",
       "2   87510  8.7M   5,000,000+  Free     0       Everyone   \n",
       "3  215644   25M  50,000,000+  Free     0           Teen   \n",
       "4     967  2.8M     100,000+  Free     0       Everyone   \n",
       "\n",
       "                      Genres      Last Updated         Current Ver  \\\n",
       "0               Art & Design   January 7, 2018               1.0.0   \n",
       "1  Art & Design;Pretend Play  January 15, 2018               2.0.0   \n",
       "2               Art & Design    August 1, 2018               1.2.4   \n",
       "3               Art & Design      June 8, 2018  Varies with device   \n",
       "4    Art & Design;Creativity     June 20, 2018                 1.1   \n",
       "\n",
       "    Android Ver  \n",
       "0  4.0.3 and up  \n",
       "1  4.0.3 and up  \n",
       "2  4.0.3 and up  \n",
       "3    4.2 and up  \n",
       "4    4.4 and up  "
      ]
     },
     "execution_count": 8,
     "metadata": {},
     "output_type": "execute_result"
    }
   ],
   "source": [
    "df.head()"
   ]
  },
  {
   "cell_type": "markdown",
   "id": "30f94097",
   "metadata": {},
   "source": [
    "### Total Number of Unique Categories\n",
    "\n",
    "We can use the unique() function to get all the unique values of Category column"
   ]
  },
  {
   "cell_type": "code",
   "execution_count": 9,
   "id": "fec5b671",
   "metadata": {},
   "outputs": [
    {
     "data": {
      "text/plain": [
       "array(['ART_AND_DESIGN', 'AUTO_AND_VEHICLES', 'BEAUTY',\n",
       "       'BOOKS_AND_REFERENCE', 'BUSINESS', 'COMICS', 'COMMUNICATION',\n",
       "       'DATING', 'EDUCATION', 'ENTERTAINMENT', 'EVENTS', 'FINANCE',\n",
       "       'FOOD_AND_DRINK', 'HEALTH_AND_FITNESS', 'HOUSE_AND_HOME',\n",
       "       'LIBRARIES_AND_DEMO', 'LIFESTYLE', 'GAME', 'FAMILY', 'MEDICAL',\n",
       "       'SOCIAL', 'SHOPPING', 'PHOTOGRAPHY', 'SPORTS', 'TRAVEL_AND_LOCAL',\n",
       "       'TOOLS', 'PERSONALIZATION', 'PRODUCTIVITY', 'PARENTING', 'WEATHER',\n",
       "       'VIDEO_PLAYERS', 'NEWS_AND_MAGAZINES', 'MAPS_AND_NAVIGATION'],\n",
       "      dtype=object)"
      ]
     },
     "execution_count": 9,
     "metadata": {},
     "output_type": "execute_result"
    }
   ],
   "source": [
    "df['Category'].unique()"
   ]
  },
  {
   "cell_type": "markdown",
   "id": "ed8bd9c9",
   "metadata": {},
   "source": [
    "To get the total number of Unique values we can use the nunique() function."
   ]
  },
  {
   "cell_type": "code",
   "execution_count": 11,
   "id": "ebf9bffd",
   "metadata": {},
   "outputs": [
    {
     "name": "stdout",
     "output_type": "stream",
     "text": [
      "There are a total of 33 unique values in Category columns\n"
     ]
    }
   ],
   "source": [
    "n = df['Category'].nunique()\n",
    "\n",
    "print(\"There are a total of\", n, \"unique values in Category columns\")"
   ]
  },
  {
   "cell_type": "markdown",
   "id": "ed2f76a8",
   "metadata": {},
   "source": [
    "### Total Number of apps in ART_AND_DESIGN"
   ]
  },
  {
   "cell_type": "code",
   "execution_count": 12,
   "id": "ecea19ff",
   "metadata": {},
   "outputs": [
    {
     "name": "stdout",
     "output_type": "stream",
     "text": [
      "There are a total of 61 applications in ART_AND_DESIGN\n"
     ]
    }
   ],
   "source": [
    "c = 0\n",
    "\n",
    "for i in df['Category']:\n",
    "    if(i == 'ART_AND_DESIGN'):\n",
    "        c += 1\n",
    "print(f\"There are a total of {c} applications in ART_AND_DESIGN\")"
   ]
  },
  {
   "cell_type": "markdown",
   "id": "389b8e41",
   "metadata": {},
   "source": [
    "### Total number of Free and Paid Apps"
   ]
  },
  {
   "cell_type": "code",
   "execution_count": 14,
   "id": "28ef2d7a",
   "metadata": {},
   "outputs": [
    {
     "name": "stdout",
     "output_type": "stream",
     "text": [
      "There are a total number of 8715 free and 645 paid apps\n"
     ]
    }
   ],
   "source": [
    "f = 0\n",
    "p = 0\n",
    "\n",
    "for i in df['Type']:\n",
    "    if(i == 'Free'):\n",
    "        f += 1\n",
    "\n",
    "for i in df['Type']:\n",
    "    if(i == 'Paid'):\n",
    "        p += 1\n",
    "\n",
    "print(f\"There are a total number of {f} free and {p} paid apps\")"
   ]
  },
  {
   "cell_type": "markdown",
   "id": "9edbba62",
   "metadata": {},
   "source": [
    "### Percentage of Free and Paid Apps"
   ]
  },
  {
   "cell_type": "code",
   "execution_count": 15,
   "id": "2c4e4bc3",
   "metadata": {},
   "outputs": [
    {
     "name": "stdout",
     "output_type": "stream",
     "text": [
      "A total of 93.11% of the apps are Free and 6.89% of the apps are paid\n"
     ]
    }
   ],
   "source": [
    "ff = f / len(df['Type']) * 100\n",
    "ff = round(ff, 2)\n",
    "\n",
    "pp = 100 - ff\n",
    "pp = round(pp, 2)\n",
    "\n",
    "print(f\"A total of {ff}% of the apps are Free and {pp}% of the apps are paid\")"
   ]
  },
  {
   "cell_type": "markdown",
   "id": "162ca54f",
   "metadata": {},
   "source": [
    "# Data Analysis - Automatic Categorical\n",
    "\n",
    "Let us see now how we would automate our categorical data. Firstly let us see our dataset and then we can start with the analysis."
   ]
  },
  {
   "cell_type": "code",
   "execution_count": 16,
   "id": "e3783168",
   "metadata": {},
   "outputs": [
    {
     "data": {
      "text/html": [
       "<div>\n",
       "<style scoped>\n",
       "    .dataframe tbody tr th:only-of-type {\n",
       "        vertical-align: middle;\n",
       "    }\n",
       "\n",
       "    .dataframe tbody tr th {\n",
       "        vertical-align: top;\n",
       "    }\n",
       "\n",
       "    .dataframe thead th {\n",
       "        text-align: right;\n",
       "    }\n",
       "</style>\n",
       "<table border=\"1\" class=\"dataframe\">\n",
       "  <thead>\n",
       "    <tr style=\"text-align: right;\">\n",
       "      <th></th>\n",
       "      <th>App</th>\n",
       "      <th>Category</th>\n",
       "      <th>Rating</th>\n",
       "      <th>Reviews</th>\n",
       "      <th>Size</th>\n",
       "      <th>Installs</th>\n",
       "      <th>Type</th>\n",
       "      <th>Price</th>\n",
       "      <th>Content Rating</th>\n",
       "      <th>Genres</th>\n",
       "      <th>Last Updated</th>\n",
       "      <th>Current Ver</th>\n",
       "      <th>Android Ver</th>\n",
       "    </tr>\n",
       "  </thead>\n",
       "  <tbody>\n",
       "    <tr>\n",
       "      <th>0</th>\n",
       "      <td>Photo Editor &amp; Candy Camera &amp; Grid &amp; ScrapBook</td>\n",
       "      <td>ART_AND_DESIGN</td>\n",
       "      <td>4.1</td>\n",
       "      <td>159</td>\n",
       "      <td>19M</td>\n",
       "      <td>10,000+</td>\n",
       "      <td>Free</td>\n",
       "      <td>0</td>\n",
       "      <td>Everyone</td>\n",
       "      <td>Art &amp; Design</td>\n",
       "      <td>January 7, 2018</td>\n",
       "      <td>1.0.0</td>\n",
       "      <td>4.0.3 and up</td>\n",
       "    </tr>\n",
       "    <tr>\n",
       "      <th>1</th>\n",
       "      <td>Coloring book moana</td>\n",
       "      <td>ART_AND_DESIGN</td>\n",
       "      <td>3.9</td>\n",
       "      <td>967</td>\n",
       "      <td>14M</td>\n",
       "      <td>500,000+</td>\n",
       "      <td>Free</td>\n",
       "      <td>0</td>\n",
       "      <td>Everyone</td>\n",
       "      <td>Art &amp; Design;Pretend Play</td>\n",
       "      <td>January 15, 2018</td>\n",
       "      <td>2.0.0</td>\n",
       "      <td>4.0.3 and up</td>\n",
       "    </tr>\n",
       "    <tr>\n",
       "      <th>2</th>\n",
       "      <td>U Launcher Lite – FREE Live Cool Themes, Hide ...</td>\n",
       "      <td>ART_AND_DESIGN</td>\n",
       "      <td>4.7</td>\n",
       "      <td>87510</td>\n",
       "      <td>8.7M</td>\n",
       "      <td>5,000,000+</td>\n",
       "      <td>Free</td>\n",
       "      <td>0</td>\n",
       "      <td>Everyone</td>\n",
       "      <td>Art &amp; Design</td>\n",
       "      <td>August 1, 2018</td>\n",
       "      <td>1.2.4</td>\n",
       "      <td>4.0.3 and up</td>\n",
       "    </tr>\n",
       "    <tr>\n",
       "      <th>3</th>\n",
       "      <td>Sketch - Draw &amp; Paint</td>\n",
       "      <td>ART_AND_DESIGN</td>\n",
       "      <td>4.5</td>\n",
       "      <td>215644</td>\n",
       "      <td>25M</td>\n",
       "      <td>50,000,000+</td>\n",
       "      <td>Free</td>\n",
       "      <td>0</td>\n",
       "      <td>Teen</td>\n",
       "      <td>Art &amp; Design</td>\n",
       "      <td>June 8, 2018</td>\n",
       "      <td>Varies with device</td>\n",
       "      <td>4.2 and up</td>\n",
       "    </tr>\n",
       "    <tr>\n",
       "      <th>4</th>\n",
       "      <td>Pixel Draw - Number Art Coloring Book</td>\n",
       "      <td>ART_AND_DESIGN</td>\n",
       "      <td>4.3</td>\n",
       "      <td>967</td>\n",
       "      <td>2.8M</td>\n",
       "      <td>100,000+</td>\n",
       "      <td>Free</td>\n",
       "      <td>0</td>\n",
       "      <td>Everyone</td>\n",
       "      <td>Art &amp; Design;Creativity</td>\n",
       "      <td>June 20, 2018</td>\n",
       "      <td>1.1</td>\n",
       "      <td>4.4 and up</td>\n",
       "    </tr>\n",
       "  </tbody>\n",
       "</table>\n",
       "</div>"
      ],
      "text/plain": [
       "                                                 App        Category  Rating  \\\n",
       "0     Photo Editor & Candy Camera & Grid & ScrapBook  ART_AND_DESIGN     4.1   \n",
       "1                                Coloring book moana  ART_AND_DESIGN     3.9   \n",
       "2  U Launcher Lite – FREE Live Cool Themes, Hide ...  ART_AND_DESIGN     4.7   \n",
       "3                              Sketch - Draw & Paint  ART_AND_DESIGN     4.5   \n",
       "4              Pixel Draw - Number Art Coloring Book  ART_AND_DESIGN     4.3   \n",
       "\n",
       "  Reviews  Size     Installs  Type Price Content Rating  \\\n",
       "0     159   19M      10,000+  Free     0       Everyone   \n",
       "1     967   14M     500,000+  Free     0       Everyone   \n",
       "2   87510  8.7M   5,000,000+  Free     0       Everyone   \n",
       "3  215644   25M  50,000,000+  Free     0           Teen   \n",
       "4     967  2.8M     100,000+  Free     0       Everyone   \n",
       "\n",
       "                      Genres      Last Updated         Current Ver  \\\n",
       "0               Art & Design   January 7, 2018               1.0.0   \n",
       "1  Art & Design;Pretend Play  January 15, 2018               2.0.0   \n",
       "2               Art & Design    August 1, 2018               1.2.4   \n",
       "3               Art & Design      June 8, 2018  Varies with device   \n",
       "4    Art & Design;Creativity     June 20, 2018                 1.1   \n",
       "\n",
       "    Android Ver  \n",
       "0  4.0.3 and up  \n",
       "1  4.0.3 and up  \n",
       "2  4.0.3 and up  \n",
       "3    4.2 and up  \n",
       "4    4.4 and up  "
      ]
     },
     "execution_count": 16,
     "metadata": {},
     "output_type": "execute_result"
    }
   ],
   "source": [
    "df.head()"
   ]
  },
  {
   "cell_type": "markdown",
   "id": "a61ccdb5",
   "metadata": {},
   "source": [
    "### Total number of apps in each category"
   ]
  },
  {
   "cell_type": "code",
   "execution_count": 17,
   "id": "786dd0d6",
   "metadata": {},
   "outputs": [
    {
     "name": "stdout",
     "output_type": "stream",
     "text": [
      "{'ART_AND_DESIGN': 61, 'AUTO_AND_VEHICLES': 73, 'BEAUTY': 42, 'BOOKS_AND_REFERENCE': 178, 'BUSINESS': 303, 'COMICS': 58, 'COMMUNICATION': 328, 'DATING': 195, 'EDUCATION': 155, 'ENTERTAINMENT': 149, 'EVENTS': 45, 'FINANCE': 323, 'FOOD_AND_DRINK': 109, 'HEALTH_AND_FITNESS': 297, 'HOUSE_AND_HOME': 76, 'LIBRARIES_AND_DEMO': 64, 'LIFESTYLE': 314, 'GAME': 1097, 'FAMILY': 1746, 'MEDICAL': 350, 'SOCIAL': 259, 'SHOPPING': 238, 'PHOTOGRAPHY': 317, 'SPORTS': 319, 'TRAVEL_AND_LOCAL': 226, 'TOOLS': 733, 'PERSONALIZATION': 312, 'PRODUCTIVITY': 351, 'PARENTING': 50, 'WEATHER': 75, 'VIDEO_PLAYERS': 160, 'NEWS_AND_MAGAZINES': 233, 'MAPS_AND_NAVIGATION': 124}\n"
     ]
    }
   ],
   "source": [
    "categories = {}\n",
    "\n",
    "for name in df['Category'].unique():\n",
    "    ct = 0\n",
    "    for i in df['Category']:\n",
    "        if(i == name):\n",
    "            ct += 1\n",
    "    categories[name] = ct\n",
    "    \n",
    "print(categories)"
   ]
  },
  {
   "cell_type": "markdown",
   "id": "7c3e242d",
   "metadata": {},
   "source": [
    "So we now know now each and every category is containing how many apps in our dataset with the help of this analysis."
   ]
  },
  {
   "cell_type": "markdown",
   "id": "0790f24f",
   "metadata": {},
   "source": [
    "### Total number of apps in each Type"
   ]
  },
  {
   "cell_type": "code",
   "execution_count": 18,
   "id": "481c81c7",
   "metadata": {},
   "outputs": [
    {
     "name": "stdout",
     "output_type": "stream",
     "text": [
      "{'Free': 8715, 'Paid': 645}\n"
     ]
    }
   ],
   "source": [
    "types = {}\n",
    "\n",
    "for name in df['Type'].unique():\n",
    "    ct = 0\n",
    "    for i in df['Type']:\n",
    "        if(i == name):\n",
    "            ct += 1\n",
    "    types[name] = ct\n",
    "    \n",
    "print(types)"
   ]
  },
  {
   "cell_type": "markdown",
   "id": "75aa76c6",
   "metadata": {},
   "source": [
    "### Total number of apps in each Content Rating"
   ]
  },
  {
   "cell_type": "code",
   "execution_count": 19,
   "id": "751ac1a5",
   "metadata": {},
   "outputs": [
    {
     "name": "stdout",
     "output_type": "stream",
     "text": [
      "{'Everyone': 7414, 'Teen': 1084, 'Everyone 10+': 397, 'Mature 17+': 461, 'Adults only 18+': 3, 'Unrated': 1}\n"
     ]
    }
   ],
   "source": [
    "content_rating = {}\n",
    "\n",
    "for name in df['Content Rating'].unique():\n",
    "    ct = 0\n",
    "    for i in df['Content Rating']:\n",
    "        if(i == name):\n",
    "            ct += 1\n",
    "    content_rating[name] = ct\n",
    "    \n",
    "print(content_rating)"
   ]
  },
  {
   "cell_type": "markdown",
   "id": "3dba6fd9",
   "metadata": {},
   "source": [
    "So we can see from here the number of apps in each and every individual Content Rating"
   ]
  },
  {
   "cell_type": "markdown",
   "id": "d1d153ab",
   "metadata": {},
   "source": [
    "# Null Values Handling - Numeric\n",
    "\n",
    "Earlier we have discussed an approach to remove null values from a dataset. But removing the null values is always not the most optical approach to work on a dataset. Let us see here how we can handle the null values instead of dropping them.\n",
    "\n",
    "Let us import pandas and read the csv file initially."
   ]
  },
  {
   "cell_type": "code",
   "execution_count": 22,
   "id": "43c840f3",
   "metadata": {},
   "outputs": [
    {
     "name": "stdout",
     "output_type": "stream",
     "text": [
      "   Country   Age   Salary Purchased\n",
      "0   France  44.0  72000.0       Yes\n",
      "1    Spain  27.0  48000.0       Yes\n",
      "2      NaN  30.0  54000.0       NaN\n",
      "3    Spain  38.0  61000.0        No\n",
      "4  Germany  40.0      NaN       Yes\n",
      "5   France  35.0  58000.0       Yes\n",
      "6    Spain   NaN  52000.0        No\n",
      "7   France  48.0  79000.0       Yes\n",
      "8  Germany  50.0  83000.0        No\n",
      "9   France  37.0  67000.0       Yes\n"
     ]
    }
   ],
   "source": [
    "import pandas as pd\n",
    "\n",
    "df = pd.read_csv('Data.csv')\n",
    "\n",
    "print(df)"
   ]
  },
  {
   "cell_type": "markdown",
   "id": "75f2bc44",
   "metadata": {},
   "source": [
    "So we can see we don't have a big dataset and there are NaN or null values present in almost every column. So now how would we handle them?\n",
    "\n",
    "**SimpleImputer** is a scikit-learn class which is helpful in handling the missing data in the predictive model dataset. It replaces the NaN values with a specified placeholder. \n",
    "It is implemented by the use of the **SimpleImputer()** method which takes the following arguments :\n",
    " \n",
    "\n",
    "- **missing_values :** The missing_values placeholder which has to be imputed. By default is NaN \n",
    "- **strategy :** The data which will replace the NaN values from the dataset. The strategy argument can take the values – ‘mean'(default), ‘median’, ‘most_frequent’ and ‘constant’. \n",
    "- **fill_value :** The constant value to be given to the NaN data using the constant strategy. "
   ]
  },
  {
   "cell_type": "code",
   "execution_count": 23,
   "id": "4b3f1dab",
   "metadata": {},
   "outputs": [],
   "source": [
    "import numpy as np\n",
    "from sklearn.impute import SimpleImputer\n",
    "\n",
    "imputer = SimpleImputer(missing_values = np.nan, strategy = 'most_frequent')\n",
    "\n",
    "df.iloc[:, 1:3] = imputer.fit_transform(df.iloc[:, 1:3].values)"
   ]
  },
  {
   "cell_type": "markdown",
   "id": "f87530e0",
   "metadata": {},
   "source": [
    "Now if we print the DataFrame(df) we will notice that the null values of the numeric column has been removed"
   ]
  },
  {
   "cell_type": "code",
   "execution_count": 24,
   "id": "064edace",
   "metadata": {},
   "outputs": [
    {
     "name": "stdout",
     "output_type": "stream",
     "text": [
      "   Country   Age   Salary Purchased\n",
      "0   France  44.0  72000.0       Yes\n",
      "1    Spain  27.0  48000.0       Yes\n",
      "2      NaN  30.0  54000.0       NaN\n",
      "3    Spain  38.0  61000.0        No\n",
      "4  Germany  40.0  48000.0       Yes\n",
      "5   France  35.0  58000.0       Yes\n",
      "6    Spain  27.0  52000.0        No\n",
      "7   France  48.0  79000.0       Yes\n",
      "8  Germany  50.0  83000.0        No\n",
      "9   France  37.0  67000.0       Yes\n"
     ]
    }
   ],
   "source": [
    "print(df)"
   ]
  },
  {
   "cell_type": "markdown",
   "id": "3de45fed",
   "metadata": {},
   "source": [
    "To confirm it we can use the isnull().sum() function."
   ]
  },
  {
   "cell_type": "code",
   "execution_count": 25,
   "id": "4cfd702b",
   "metadata": {},
   "outputs": [
    {
     "name": "stdout",
     "output_type": "stream",
     "text": [
      "Country      1\n",
      "Age          0\n",
      "Salary       0\n",
      "Purchased    1\n",
      "dtype: int64\n"
     ]
    }
   ],
   "source": [
    "print(df.isnull().sum())"
   ]
  },
  {
   "cell_type": "markdown",
   "id": "7ebfc311",
   "metadata": {},
   "source": [
    "So the null values from the numeric data columns has been removed."
   ]
  },
  {
   "cell_type": "markdown",
   "id": "857f617f",
   "metadata": {},
   "source": [
    "# Null Values Handling - Categorical\n",
    "\n",
    "We have already seen how we can handle the numerical data with the help of scikit-learn. In the case of Categorical Data things are a little different because we can't use mean, median. So we basically need to choose the most frequent(mode) for filling up the null values in the case of Categorical data.\n",
    "\n",
    "Let us import pandas and read the csv file initially."
   ]
  },
  {
   "cell_type": "code",
   "execution_count": 26,
   "id": "3878479d",
   "metadata": {},
   "outputs": [
    {
     "data": {
      "text/html": [
       "<div>\n",
       "<style scoped>\n",
       "    .dataframe tbody tr th:only-of-type {\n",
       "        vertical-align: middle;\n",
       "    }\n",
       "\n",
       "    .dataframe tbody tr th {\n",
       "        vertical-align: top;\n",
       "    }\n",
       "\n",
       "    .dataframe thead th {\n",
       "        text-align: right;\n",
       "    }\n",
       "</style>\n",
       "<table border=\"1\" class=\"dataframe\">\n",
       "  <thead>\n",
       "    <tr style=\"text-align: right;\">\n",
       "      <th></th>\n",
       "      <th>Country</th>\n",
       "      <th>Age</th>\n",
       "      <th>Salary</th>\n",
       "      <th>Purchased</th>\n",
       "    </tr>\n",
       "  </thead>\n",
       "  <tbody>\n",
       "    <tr>\n",
       "      <th>0</th>\n",
       "      <td>France</td>\n",
       "      <td>44.0</td>\n",
       "      <td>72000.0</td>\n",
       "      <td>Yes</td>\n",
       "    </tr>\n",
       "    <tr>\n",
       "      <th>1</th>\n",
       "      <td>Spain</td>\n",
       "      <td>27.0</td>\n",
       "      <td>48000.0</td>\n",
       "      <td>Yes</td>\n",
       "    </tr>\n",
       "    <tr>\n",
       "      <th>2</th>\n",
       "      <td>NaN</td>\n",
       "      <td>30.0</td>\n",
       "      <td>54000.0</td>\n",
       "      <td>NaN</td>\n",
       "    </tr>\n",
       "    <tr>\n",
       "      <th>3</th>\n",
       "      <td>Spain</td>\n",
       "      <td>38.0</td>\n",
       "      <td>61000.0</td>\n",
       "      <td>No</td>\n",
       "    </tr>\n",
       "    <tr>\n",
       "      <th>4</th>\n",
       "      <td>Germany</td>\n",
       "      <td>40.0</td>\n",
       "      <td>48000.0</td>\n",
       "      <td>Yes</td>\n",
       "    </tr>\n",
       "    <tr>\n",
       "      <th>5</th>\n",
       "      <td>France</td>\n",
       "      <td>35.0</td>\n",
       "      <td>58000.0</td>\n",
       "      <td>Yes</td>\n",
       "    </tr>\n",
       "    <tr>\n",
       "      <th>6</th>\n",
       "      <td>Spain</td>\n",
       "      <td>27.0</td>\n",
       "      <td>52000.0</td>\n",
       "      <td>No</td>\n",
       "    </tr>\n",
       "    <tr>\n",
       "      <th>7</th>\n",
       "      <td>France</td>\n",
       "      <td>48.0</td>\n",
       "      <td>79000.0</td>\n",
       "      <td>Yes</td>\n",
       "    </tr>\n",
       "    <tr>\n",
       "      <th>8</th>\n",
       "      <td>Germany</td>\n",
       "      <td>50.0</td>\n",
       "      <td>83000.0</td>\n",
       "      <td>No</td>\n",
       "    </tr>\n",
       "    <tr>\n",
       "      <th>9</th>\n",
       "      <td>France</td>\n",
       "      <td>37.0</td>\n",
       "      <td>67000.0</td>\n",
       "      <td>Yes</td>\n",
       "    </tr>\n",
       "  </tbody>\n",
       "</table>\n",
       "</div>"
      ],
      "text/plain": [
       "   Country   Age   Salary Purchased\n",
       "0   France  44.0  72000.0       Yes\n",
       "1    Spain  27.0  48000.0       Yes\n",
       "2      NaN  30.0  54000.0       NaN\n",
       "3    Spain  38.0  61000.0        No\n",
       "4  Germany  40.0  48000.0       Yes\n",
       "5   France  35.0  58000.0       Yes\n",
       "6    Spain  27.0  52000.0        No\n",
       "7   France  48.0  79000.0       Yes\n",
       "8  Germany  50.0  83000.0        No\n",
       "9   France  37.0  67000.0       Yes"
      ]
     },
     "execution_count": 26,
     "metadata": {},
     "output_type": "execute_result"
    }
   ],
   "source": [
    "df"
   ]
  },
  {
   "cell_type": "markdown",
   "id": "a32a1f3f",
   "metadata": {},
   "source": [
    "So this instead of using iloc and selecting only the numeric columns we will be selecting all the columns. We will be using most frequent as the strategy parameter because we cannot use mean and median for categorical datas."
   ]
  },
  {
   "cell_type": "code",
   "execution_count": 27,
   "id": "9d6f7b2b",
   "metadata": {},
   "outputs": [],
   "source": [
    "imputer = SimpleImputer(missing_values = np.nan, strategy = 'most_frequent')\n",
    "\n",
    "df.iloc[:, :] = imputer.fit_transform(df.iloc[:, :].values)"
   ]
  },
  {
   "cell_type": "markdown",
   "id": "ccb9c339",
   "metadata": {},
   "source": [
    "Now if we print the DataFrame(df) we will notice that the null values of the categorical column as well as the numeric column has been removed."
   ]
  },
  {
   "cell_type": "code",
   "execution_count": 28,
   "id": "27214a94",
   "metadata": {},
   "outputs": [
    {
     "name": "stdout",
     "output_type": "stream",
     "text": [
      "   Country   Age   Salary Purchased\n",
      "0   France  44.0  72000.0       Yes\n",
      "1    Spain  27.0  48000.0       Yes\n",
      "2   France  30.0  54000.0       Yes\n",
      "3    Spain  38.0  61000.0        No\n",
      "4  Germany  40.0  48000.0       Yes\n",
      "5   France  35.0  58000.0       Yes\n",
      "6    Spain  27.0  52000.0        No\n",
      "7   France  48.0  79000.0       Yes\n",
      "8  Germany  50.0  83000.0        No\n",
      "9   France  37.0  67000.0       Yes\n"
     ]
    }
   ],
   "source": [
    "print(df)"
   ]
  },
  {
   "cell_type": "markdown",
   "id": "36bb9128",
   "metadata": {},
   "source": [
    "To confirm it we can use the isnull().sum() function."
   ]
  },
  {
   "cell_type": "code",
   "execution_count": 29,
   "id": "ad753e34",
   "metadata": {},
   "outputs": [
    {
     "name": "stdout",
     "output_type": "stream",
     "text": [
      "Country      0\n",
      "Age          0\n",
      "Salary       0\n",
      "Purchased    0\n",
      "dtype: int64\n"
     ]
    }
   ],
   "source": [
    "print(df.isnull().sum())"
   ]
  },
  {
   "cell_type": "markdown",
   "id": "83b2ca46",
   "metadata": {},
   "source": [
    "So we have removed all the null values and replaced them with the most frequent value of that particular column."
   ]
  },
  {
   "cell_type": "markdown",
   "id": "1bce38b9",
   "metadata": {},
   "source": [
    "# Null Values Handling on GooglePlaystore Dataset\n",
    "\n",
    "Now we have already seen how we can handle null values for both Numeric and Categorical Data. Let use use those techniques and handle the null values for our GooglePlaystore Dataset.\n",
    "\n",
    "So let us see our dataset again before getting started."
   ]
  },
  {
   "cell_type": "code",
   "execution_count": 31,
   "id": "96f88183",
   "metadata": {},
   "outputs": [
    {
     "data": {
      "text/html": [
       "<div>\n",
       "<style scoped>\n",
       "    .dataframe tbody tr th:only-of-type {\n",
       "        vertical-align: middle;\n",
       "    }\n",
       "\n",
       "    .dataframe tbody tr th {\n",
       "        vertical-align: top;\n",
       "    }\n",
       "\n",
       "    .dataframe thead th {\n",
       "        text-align: right;\n",
       "    }\n",
       "</style>\n",
       "<table border=\"1\" class=\"dataframe\">\n",
       "  <thead>\n",
       "    <tr style=\"text-align: right;\">\n",
       "      <th></th>\n",
       "      <th>App</th>\n",
       "      <th>Category</th>\n",
       "      <th>Rating</th>\n",
       "      <th>Reviews</th>\n",
       "      <th>Size</th>\n",
       "      <th>Installs</th>\n",
       "      <th>Type</th>\n",
       "      <th>Price</th>\n",
       "      <th>Content Rating</th>\n",
       "      <th>Genres</th>\n",
       "      <th>Last Updated</th>\n",
       "      <th>Current Ver</th>\n",
       "      <th>Android Ver</th>\n",
       "    </tr>\n",
       "  </thead>\n",
       "  <tbody>\n",
       "    <tr>\n",
       "      <th>0</th>\n",
       "      <td>Photo Editor &amp; Candy Camera &amp; Grid &amp; ScrapBook</td>\n",
       "      <td>ART_AND_DESIGN</td>\n",
       "      <td>4.1</td>\n",
       "      <td>159</td>\n",
       "      <td>19M</td>\n",
       "      <td>10,000+</td>\n",
       "      <td>Free</td>\n",
       "      <td>0</td>\n",
       "      <td>Everyone</td>\n",
       "      <td>Art &amp; Design</td>\n",
       "      <td>January 7, 2018</td>\n",
       "      <td>1.0.0</td>\n",
       "      <td>4.0.3 and up</td>\n",
       "    </tr>\n",
       "    <tr>\n",
       "      <th>1</th>\n",
       "      <td>Coloring book moana</td>\n",
       "      <td>ART_AND_DESIGN</td>\n",
       "      <td>3.9</td>\n",
       "      <td>967</td>\n",
       "      <td>14M</td>\n",
       "      <td>500,000+</td>\n",
       "      <td>Free</td>\n",
       "      <td>0</td>\n",
       "      <td>Everyone</td>\n",
       "      <td>Art &amp; Design;Pretend Play</td>\n",
       "      <td>January 15, 2018</td>\n",
       "      <td>2.0.0</td>\n",
       "      <td>4.0.3 and up</td>\n",
       "    </tr>\n",
       "    <tr>\n",
       "      <th>2</th>\n",
       "      <td>U Launcher Lite – FREE Live Cool Themes, Hide ...</td>\n",
       "      <td>ART_AND_DESIGN</td>\n",
       "      <td>4.7</td>\n",
       "      <td>87510</td>\n",
       "      <td>8.7M</td>\n",
       "      <td>5,000,000+</td>\n",
       "      <td>Free</td>\n",
       "      <td>0</td>\n",
       "      <td>Everyone</td>\n",
       "      <td>Art &amp; Design</td>\n",
       "      <td>August 1, 2018</td>\n",
       "      <td>1.2.4</td>\n",
       "      <td>4.0.3 and up</td>\n",
       "    </tr>\n",
       "    <tr>\n",
       "      <th>3</th>\n",
       "      <td>Sketch - Draw &amp; Paint</td>\n",
       "      <td>ART_AND_DESIGN</td>\n",
       "      <td>4.5</td>\n",
       "      <td>215644</td>\n",
       "      <td>25M</td>\n",
       "      <td>50,000,000+</td>\n",
       "      <td>Free</td>\n",
       "      <td>0</td>\n",
       "      <td>Teen</td>\n",
       "      <td>Art &amp; Design</td>\n",
       "      <td>June 8, 2018</td>\n",
       "      <td>Varies with device</td>\n",
       "      <td>4.2 and up</td>\n",
       "    </tr>\n",
       "    <tr>\n",
       "      <th>4</th>\n",
       "      <td>Pixel Draw - Number Art Coloring Book</td>\n",
       "      <td>ART_AND_DESIGN</td>\n",
       "      <td>4.3</td>\n",
       "      <td>967</td>\n",
       "      <td>2.8M</td>\n",
       "      <td>100,000+</td>\n",
       "      <td>Free</td>\n",
       "      <td>0</td>\n",
       "      <td>Everyone</td>\n",
       "      <td>Art &amp; Design;Creativity</td>\n",
       "      <td>June 20, 2018</td>\n",
       "      <td>1.1</td>\n",
       "      <td>4.4 and up</td>\n",
       "    </tr>\n",
       "  </tbody>\n",
       "</table>\n",
       "</div>"
      ],
      "text/plain": [
       "                                                 App        Category  Rating  \\\n",
       "0     Photo Editor & Candy Camera & Grid & ScrapBook  ART_AND_DESIGN     4.1   \n",
       "1                                Coloring book moana  ART_AND_DESIGN     3.9   \n",
       "2  U Launcher Lite – FREE Live Cool Themes, Hide ...  ART_AND_DESIGN     4.7   \n",
       "3                              Sketch - Draw & Paint  ART_AND_DESIGN     4.5   \n",
       "4              Pixel Draw - Number Art Coloring Book  ART_AND_DESIGN     4.3   \n",
       "\n",
       "  Reviews  Size     Installs  Type Price Content Rating  \\\n",
       "0     159   19M      10,000+  Free     0       Everyone   \n",
       "1     967   14M     500,000+  Free     0       Everyone   \n",
       "2   87510  8.7M   5,000,000+  Free     0       Everyone   \n",
       "3  215644   25M  50,000,000+  Free     0           Teen   \n",
       "4     967  2.8M     100,000+  Free     0       Everyone   \n",
       "\n",
       "                      Genres      Last Updated         Current Ver  \\\n",
       "0               Art & Design   January 7, 2018               1.0.0   \n",
       "1  Art & Design;Pretend Play  January 15, 2018               2.0.0   \n",
       "2               Art & Design    August 1, 2018               1.2.4   \n",
       "3               Art & Design      June 8, 2018  Varies with device   \n",
       "4    Art & Design;Creativity     June 20, 2018                 1.1   \n",
       "\n",
       "    Android Ver  \n",
       "0  4.0.3 and up  \n",
       "1  4.0.3 and up  \n",
       "2  4.0.3 and up  \n",
       "3    4.2 and up  \n",
       "4    4.4 and up  "
      ]
     },
     "execution_count": 31,
     "metadata": {},
     "output_type": "execute_result"
    }
   ],
   "source": [
    "import pandas as pd\n",
    "import numpy as np\n",
    "from sklearn.impute import SimpleImputer\n",
    "\n",
    "df = pd.read_csv(\"googleplaystore.csv\")\n",
    "\n",
    "df.head()"
   ]
  },
  {
   "cell_type": "markdown",
   "id": "dd8bbafd",
   "metadata": {},
   "source": [
    "Let us use the isnull().sum() function to check the number of null data in every column."
   ]
  },
  {
   "cell_type": "code",
   "execution_count": 32,
   "id": "c4f53c84",
   "metadata": {},
   "outputs": [
    {
     "name": "stdout",
     "output_type": "stream",
     "text": [
      "App                  0\n",
      "Category             0\n",
      "Rating            1474\n",
      "Reviews              0\n",
      "Size                 0\n",
      "Installs             0\n",
      "Type                 1\n",
      "Price                0\n",
      "Content Rating       1\n",
      "Genres               0\n",
      "Last Updated         0\n",
      "Current Ver          8\n",
      "Android Ver          3\n",
      "dtype: int64\n"
     ]
    }
   ],
   "source": [
    "print(df.isnull().sum())"
   ]
  },
  {
   "cell_type": "markdown",
   "id": "950da072",
   "metadata": {},
   "source": [
    "So we have a huge number of data which is null in the Rating column. We can drop the rows which are null but that would not be optimal because the number of data. is very much. So we are going to use the SimpleImputer  and replace the null values with the mean of the Rating column.\n",
    "\n",
    "Let's get started with the coding implementation now."
   ]
  },
  {
   "cell_type": "code",
   "execution_count": 33,
   "id": "952c7a33",
   "metadata": {},
   "outputs": [],
   "source": [
    "impute = SimpleImputer(missing_values = np.nan , strategy = 'mean')\n",
    "\n",
    "df.iloc[ : , 2:3 ] = impute.fit_transform(df.iloc[ : , 2:3 ].values)"
   ]
  },
  {
   "cell_type": "markdown",
   "id": "942835c3",
   "metadata": {},
   "source": [
    "So we have replaced the null values with the mean value for the Rating column and there is no loss of data as well. Let us use the isnull().sum() function to again check our null values."
   ]
  },
  {
   "cell_type": "code",
   "execution_count": 34,
   "id": "77b8b0c3",
   "metadata": {},
   "outputs": [
    {
     "name": "stdout",
     "output_type": "stream",
     "text": [
      "App               0\n",
      "Category          0\n",
      "Rating            0\n",
      "Reviews           0\n",
      "Size              0\n",
      "Installs          0\n",
      "Type              1\n",
      "Price             0\n",
      "Content Rating    1\n",
      "Genres            0\n",
      "Last Updated      0\n",
      "Current Ver       8\n",
      "Android Ver       3\n",
      "dtype: int64\n"
     ]
    }
   ],
   "source": [
    "print(df.isnull().sum())"
   ]
  },
  {
   "cell_type": "markdown",
   "id": "e9d114e7",
   "metadata": {},
   "source": [
    "So now we have some more null values present in the other columns. So we can see they are very less as compared to the size of the dataset( less than 1%) so we can just remove those null values."
   ]
  },
  {
   "cell_type": "code",
   "execution_count": 35,
   "id": "12dcd51c",
   "metadata": {},
   "outputs": [
    {
     "name": "stdout",
     "output_type": "stream",
     "text": [
      "App               0\n",
      "Category          0\n",
      "Rating            0\n",
      "Reviews           0\n",
      "Size              0\n",
      "Installs          0\n",
      "Type              0\n",
      "Price             0\n",
      "Content Rating    0\n",
      "Genres            0\n",
      "Last Updated      0\n",
      "Current Ver       0\n",
      "Android Ver       0\n",
      "dtype: int64\n"
     ]
    }
   ],
   "source": [
    "df = df.dropna()\n",
    "\n",
    "print(df.isnull().sum())"
   ]
  },
  {
   "cell_type": "markdown",
   "id": "d73a0c2e",
   "metadata": {},
   "source": [
    "So we have removed the rest of the null values and we have no null values present in our dataset anymore."
   ]
  }
 ],
 "metadata": {
  "kernelspec": {
   "display_name": "Python 3 (ipykernel)",
   "language": "python",
   "name": "python3"
  },
  "language_info": {
   "codemirror_mode": {
    "name": "ipython",
    "version": 3
   },
   "file_extension": ".py",
   "mimetype": "text/x-python",
   "name": "python",
   "nbconvert_exporter": "python",
   "pygments_lexer": "ipython3",
   "version": "3.11.5"
  }
 },
 "nbformat": 4,
 "nbformat_minor": 5
}
